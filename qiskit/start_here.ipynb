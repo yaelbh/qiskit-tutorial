{
 "cells": [
  {
   "cell_type": "markdown",
   "metadata": {},
   "source": [
    "<img src=\"../images/qiskit-heading.gif\" alt=\"Note: In order for images to show up in this jupyter notebook you need to select File => Trusted Notebook\" width=\"500 px\" align=\"left\">"
   ]
  },
  {
   "cell_type": "markdown",
   "metadata": {},
   "source": [
    "# Qiskit Tutorials\n",
    "\n",
    "***\n",
    "\n",
    "\n",
    "Welcome Qiskitters.\n",
    "\n",
    "\n",
    "These tutorials aim to explain how to use Qiskit. We assume you have installed Qiskit; if not, please look at [qiskit.org](http://www.qiskit.org) or the install [documentation](https://qiskit.org/documentation/install.html). \n",
    "\n",
    "\n",
    "We've collected a core reference set of notebooks in this section outlining the features of Qiskit. We will be keeping them up to date with the latest Qiskit version, currently 0.9. The focus of this section will be how to use Qiskit and not so much on teaching you about quantum computing. For those interested in learning about quantum computing we recommend the awesome [educational material](https://quantum-computing.ibm.com/support) we and the community have put together.\n",
    "\n",
    "\n",
    "Qiskit is made up of four elements: Terra, Aer, Ignis, and Aqua. Each element has its own goal, and together they make the full Qiskit framework. \n",
    "\n",
    "## Getting started with Qiskit\n",
    "\n",
    "This section gives you the tools to make your first circuits, run them on real quantum systems and simulators, and view the data.\n",
    "\n",
    "  * [Getting started with Qiskit](basics/1_getting_started_with_qiskit.ipynb) - How to use Qiskit\n",
    "  * [The IBM Q provider](basics/2_the_ibmq_provider.ipynb) - Working with the IBM Q devices\n",
    "  * [Plotting data in Qiskit](basics/3_plotting_data_in_qiskit.ipynb) -  Illustrates the different ways of plotting data in Qiskit\n",
    "        \n",
    "## 2 Qiskit Terra\n",
    "\n",
    "Terra, the ‘earth’ element, is the foundation on which the rest of the software lies. Terra provides a bedrock for composing quantum programs at the level of circuits and pulses, to optimize them for the constraints of a particular device, and to manage the execution of batches of experiments on remote-access devices. Terra defines the interfaces for a desirable end-user experience, as well as the efficient handling of layers of optimization, pulse scheduling and backend communication.\n",

    "  * [Quantum circuits](terra/quantum_circuits.ipynb) - Gives a summary of the `QuantumCircuit` object\n",
    "  * [Advanced circuits](terra/advanced_circuits.ipynb) - New circuit building tools added in Terra 0.8, including registerless declarations, composite gate updates and parameterized circuits\n",
    "  * [Summary of quantum operations](terra/summary_of_quantum_operations.ipynb) - List of quantum operations (gates, reset, measurements) in Qiskit Terra\n",
    "  * [Visualizing a quantum circuit](terra/visualizing_a_quantum_circuit.ipynb) - Details on drawing your quantum circuits\n",
    "  * [Using the transpiler](terra/using_the_transpiler.ipynb) - Getting started with circuit analysis and optimization\n",
    "  * [Writing a transpiler pass](terra/writing_a_transpiler_pass.ipynb) - How to extend the transpiler with a new pass\n",
    "  * [Mapping circuit qubits to device qubits](terra/device_mapping.ipynb) - How to manually select the mapping of qubits from a circuit to a given device\n",
    "  * [Reduced backends and noise models](terra/reduced_backends.ipynb) - Working with sub-graphs of a quantum device topology\n",
    "  * [Monitoring jobs and backends](terra/backend_monitoring_tools.ipynb) - Tools for monitoring jobs and backends\n",
    "  * [Parallel tools](terra/terra_parallel_tools.ipynb) - Executing tasks in parallel using `parallel_map` and tracking progress\n",
    "  * [Creating a new provider](terra/creating_a_provider.ipynb) - A guide to integration of a new provider with Qiskit structures and interfaces\n",
    "  * [Calibrating a qubit](terra/calibrating_a_qubit.ipynb) - An introduction to working with the pulse API by way of calibrating a qubit\n",
    "  * [Operators overview](terra/operators_overview.ipynb) - Gives a summary of the features and uses of the Operator class\n",
    "\n",
    "  \n",
    "##  3 Qiskit Interacitve Plotting and Jupyter Tools\n",
    "\n",
    "To improve the Qiskit user experience, we have made many of the visualizations interactive and developed some very cool new job monitoring tools in Jupyter.\n",
    "\n",
    "  * [Jupyter tools for Monitoring jobs and backends](jupyter/jupyter_backend_tools.ipynb) - Jupyter tools for monitoring jobs and backends\n",
    "\n",
    "##  4 Qiskit Aer\n",
    "\n",

    "Aer, the ‘air’ element, permeates all Qiskit elements. To really speed up development of quantum computers, we need better simulators with the ability to model realistic noise processes that occur during computation on actual devices. Aer provides a high-performance simulator framework for studying quantum computing algorithms and applications in the noisy intermediate-scale quantum regime. \n",
    "  * [Aer provider](aer/aer_provider.ipynb) - Gives a summary of the Qiskit Aer provider containing the Qasm, statevector, and unitary simulator\n",
    "  * [Extended stabilizer tutorial](aer/extended_stabilizer_tutorial.ipynb) - Gives an overview of the *extended stabilizer* Qasm Simulator method\n",
    "  * [Device noise simulation](aer/device_noise_simulation.ipynb) - Shows how to use the Qiskit Aer noise module to automatically generate a basic noise model for simulating hardware backends\n",
    "  * [Building noise models](aer/building_noise_models.ipynb) - Shows how to use Qiskit Aer noise module to construct custom noise models for noisy simulations\n",
    "  * [Custom gate noise](aer/custom_gate_noise.ipynb) - Shows to implement simulations using custom noisy gates.\n",
    "  * [Noise transformations](aer/noise_transformation.ipynb) - Demonstrates the noise approximation utility functions to construct approximate Clifford noise models out of a general noise model\n",
    "  \n",
    "##  5 Qiskit Ignis\n",
    "Ignis, the ‘fire’ element, is dedicated to fighting noise and errors and to forging a new path. This includes better characterization of errors, improving gates, and computing in the presence of noise. Ignis is meant for those who want to design quantum error correction codes, or who wish to study ways to characterize errors through methods such as tomography, or even to find a better way for using gates by exploring dynamical decoupling and optimal control. While we have already released parts of this element as part of libraries in Terra, an official stand-alone release will come soon. For now, we have some tutorials for you to explore.\n",
    "  * [Relaxation and decoherence](ignis/relaxation_and_decoherence.ipynb) - How to measure coherence times on the real quantum hardware\n",
    "  * [Quantum state tomography](ignis/state-tomography.ipynb) - How to identify a quantum state using state tomography, in which the state is prepared repeatedly and measured in different bases\n",
    "  * [Quantum process tomography](ignis/process-tomography.ipynb) - Using quantum process tomography to reconstruct the behavior of a quantum process and measure its fidelity, i.e., how closely it matches the ideal version\n",
    "\n",
    "##  6 Qiskit Aqua\n",

    "Aqua, the ‘water’ element, is the element of life. To make quantum computing live up to its expectations, we need to find real-world applications. Aqua is where algorithms for NISQ computers are built. These algorithms can be used to build applications for quantum computing.\n",
    "  * [Amplitude Estimation](aqua/amplitude_estimation.ipynb) - Illustrates amplitude estimation, for a simple case, where the (assumed to be unknown) success probability *p* of a Bernoulli random variable is estimated\n",
    "  * [HHL](aqua/linear_systems_of_equations.ipynb) - Solving linear systems of equations with the HHL algorithm\n",
    "  * [Creating an Aqua algorithm](aqua/Aqua_how_to_build_a_pluggable_algorithm_components.ipynb) - Building an algorithm within the framework of Aqua\n",
    "\n",
    "Aqua is accessible to domain experts in *Artificial Intelligence*, *Chemistry*, *Finance* or *Optimization*, who want to explore the benefits of using quantum computers as accelerators for specific computational tasks, without needing to worry about how to translate the problem into the language of quantum machines:\n",
    "\n",
    "### 6.1 Qiskit Artificial Intelligence\n",
    "[Qiskit AI](artificial_intelligence/index.ipynb) demonstates using quantum computers to tackle problems in the artificial intelliegence domain. These include using a quantum-enhanced support vector machine to experiment with classification problems on a quantum computer\n",
    "\n",
    "### 6.2 Qiskit Chemistry\n",
    "[Qiskit Chemistry](chemistry/index.ipynb) - applications in the domain of quantum chemistry on quantum computers, including ground state energy, dipole moments and dissociation plots\n",
    "\n",
    "### 6.3 Qiskit Finance\n",
    "[Qiskit Finance](finance/index.ipynb) - provides a collection of applications of quantum algorithms to use cases relevant in finance. This includes use cases like portfolio management, derivative pricing, or credit risk analysis.\n",
    "  \n",
    "### 6.3 Qiskit Optimization\n",
    "[Qiskit Optimization](optimization/index.ipynb) - using VQE (Variational Quantum Eigensolver) to experiment with optimization problems (max-cut and traveling salesman problem) on a quantum computer. Includes optimization problem modelling, using docplex, which can be automatically translated to input suitable for VQE.\n"
   ]
  },
  {
   "cell_type": "markdown",
   "metadata": {},
   "source": [
    "***  \n",
    "\n",
    "## License\n",
    "This project is licensed under the Apache License 2.0 - see the [LICENSE](https://github.com/Qiskit/qiskit-tutorials/blob/master/LICENSE) file for details."
   ]
  },
  {
   "cell_type": "code",
   "execution_count": null,
   "metadata": {
    "collapsed": true
   },
   "outputs": [],
   "source": []
  }
 ],
 "metadata": {
  "hide_input": false,
  "kernelspec": {
   "display_name": "Python 3",
   "language": "python",
   "name": "python3"
  },
  "language_info": {
   "codemirror_mode": {
    "name": "ipython",
    "version": 3
   },
   "file_extension": ".py",
   "mimetype": "text/x-python",
   "name": "python",
   "nbconvert_exporter": "python",
   "pygments_lexer": "ipython3",
   "version": "3.6.1"
  }
 },
 "nbformat": 4,
 "nbformat_minor": 2
}
